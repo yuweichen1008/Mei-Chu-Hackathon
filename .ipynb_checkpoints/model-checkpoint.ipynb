{
 "cells": [
  {
   "cell_type": "code",
   "execution_count": 9,
   "metadata": {
    "collapsed": true
   },
   "outputs": [],
   "source": [
    "import collections\n",
    "import csv\n",
    "import numpy as np\n",
    "from autoencoder import Autoencoder\n",
    "import random\n",
    "from difflib import SequenceMatcher"
   ]
  },
  {
   "cell_type": "code",
   "execution_count": 2,
   "metadata": {
    "collapsed": true
   },
   "outputs": [],
   "source": [
    "classname = ['Ads','Hams','Spam'] # 0, 1, 2\n",
    "def load_csv(csv_file):\n",
    "    x = []\n",
    "    y = []\n",
    "    count = 0\n",
    "    with open(csv_file, \"r\") as f:\n",
    "        reader = csv.reader(f)\n",
    "        for row in reader:\n",
    "            x.append(row[0])\n",
    "            y.append(row[1])\n",
    "        keywords = np.vstack((x,y))\n",
    "        # print(keywords.shape)\n",
    "        return keywords\n",
    "\n",
    "def read_text(address):\n",
    "    emails = [os.path.join(address,f) for f in os.listdir(address)]\n",
    "    for mail in emails:\n",
    "        with open(email) as m:\n",
    "            feature = read_email_context(m)\n",
    "            \n",
    "            \n",
    "            \n",
    "def read_email_context(mail):\n",
    "        content = \"\"\n",
    "        feature_vector = []\n",
    "        for i,line in enumerate(m):\n",
    "            cnt_line = 0 \n",
    "            if cnt_line <= i and i != 0: # prevent error\n",
    "                content.join(line)\n",
    "                cnt_line += 1\n",
    "        m = SequenceMatcher(None, content, i) # content plain-text\n",
    "        feature_vector.append(m.ratio())\n",
    "        return feature_vector"
   ]
  },
  {
   "cell_type": "code",
   "execution_count": 3,
   "metadata": {
    "collapsed": true
   },
   "outputs": [],
   "source": []
  },
  {
   "cell_type": "code",
   "execution_count": null,
   "metadata": {
    "collapsed": true
   },
   "outputs": [],
   "source": [
    "csv_file = \"mydata.csv\"\n",
    "keywords =  load_csv(csv_file)"
   ]
  },
  {
   "cell_type": "code",
   "execution_count": 27,
   "metadata": {
    "scrolled": true
   },
   "outputs": [
    {
     "name": "stdout",
     "output_type": "stream",
     "text": [
      "232\n",
      "SKT\n"
     ]
    }
   ],
   "source": [
    "feature_vector = []\n",
    "for i in keywords[0]:\n",
    "    m = SequenceMatcher(None, \"NEW YORK METS\", i) # text\n",
    "    feature_vector.append(m.ratio())\n",
    "print(len(feature_vector))\n",
    "print(keywords[0][feature_vector.index(max(feature_vector))])"
   ]
  },
  {
   "cell_type": "code",
   "execution_count": 38,
   "metadata": {},
   "outputs": [
    {
     "ename": "ValueError",
     "evalue": "The truth value of an array with more than one element is ambiguous. Use a.any() or a.all()",
     "output_type": "error",
     "traceback": [
      "\u001b[0;31m---------------------------------------------------------------------------\u001b[0m",
      "\u001b[0;31mValueError\u001b[0m                                Traceback (most recent call last)",
      "\u001b[0;32m<ipython-input-38-6d0c5b069ec1>\u001b[0m in \u001b[0;36m<module>\u001b[0;34m()\u001b[0m\n\u001b[1;32m      1\u001b[0m \u001b[0;32mfor\u001b[0m \u001b[0mi\u001b[0m \u001b[0;32min\u001b[0m \u001b[0mkeywords\u001b[0m\u001b[0;34m:\u001b[0m\u001b[0;34m\u001b[0m\u001b[0m\n\u001b[0;32m----> 2\u001b[0;31m     \u001b[0;32mif\u001b[0m \u001b[0mi\u001b[0m \u001b[0;34m==\u001b[0m \u001b[0;34m'think'\u001b[0m\u001b[0;34m:\u001b[0m\u001b[0;34m\u001b[0m\u001b[0m\n\u001b[0m\u001b[1;32m      3\u001b[0m         \u001b[0;32mpass\u001b[0m\u001b[0;34m\u001b[0m\u001b[0m\n",
      "\u001b[0;31mValueError\u001b[0m: The truth value of an array with more than one element is ambiguous. Use a.any() or a.all()"
     ]
    }
   ],
   "source": [
    "for i in keywords:\n",
    "    if i == 'think':"
   ]
  },
  {
   "cell_type": "code",
   "execution_count": null,
   "metadata": {
    "collapsed": true
   },
   "outputs": [],
   "source": []
  }
 ],
 "metadata": {
  "kernelspec": {
   "display_name": "Python 2",
   "language": "python",
   "name": "python2"
  },
  "language_info": {
   "codemirror_mode": {
    "name": "ipython",
    "version": 3
   },
   "file_extension": ".py",
   "mimetype": "text/x-python",
   "name": "python",
   "nbconvert_exporter": "python",
   "pygments_lexer": "ipython3",
   "version": "3.5.2"
  }
 },
 "nbformat": 4,
 "nbformat_minor": 2
}
